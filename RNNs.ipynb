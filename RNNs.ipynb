{
  "nbformat": 4,
  "nbformat_minor": 0,
  "metadata": {
    "kernelspec": {
      "name": "python3",
      "display_name": "Python 3"
    },
    "language_info": {
      "codemirror_mode": {
        "name": "ipython",
        "version": 3
      },
      "file_extension": ".py",
      "mimetype": "text/x-python",
      "name": "python",
      "nbconvert_exporter": "python",
      "pygments_lexer": "ipython3",
      "version": "3.6.1"
    },
    "colab": {
      "name": "lstm-sentiment-analysis.ipynb",
      "version": "0.3.2",
      "provenance": [],
      "collapsed_sections": [],
      "toc_visible": true,
      "include_colab_link": true
    },
    "accelerator": "GPU"
  },
  "cells": [
    {
      "cell_type": "markdown",
      "metadata": {
        "id": "view-in-github",
        "colab_type": "text"
      },
      "source": [
        "<a href=\"https://colab.research.google.com/github/SushmithaUW/641-Assignments/blob/master/RNNs.ipynb\" target=\"_parent\"><img src=\"https://colab.research.google.com/assets/colab-badge.svg\" alt=\"Open In Colab\"/></a>"
      ]
    },
    {
      "cell_type": "code",
      "metadata": {
        "id": "_h3nCL7GBPlU",
        "colab_type": "code",
        "colab": {}
      },
      "source": [
        "!unzip fnc-1.zip\n",
        "!wget http://nlp.stanford.edu/data/glove.6B.zip\n",
        "!unzip glove*.zip\n"
      ],
      "execution_count": 0,
      "outputs": []
    },
    {
      "cell_type": "code",
      "metadata": {
        "id": "8AIXbyGnH5pN",
        "colab_type": "code",
        "colab": {}
      },
      "source": [
        "import os\n",
        "\n",
        "os.environ[\"CUDA_DEVICE_ORDER\"] = \"PCI_BUS_ID\"\n",
        "os.environ[\"CUDA_VISIBLE_DEVICES\"] = \"1\"\n",
        "\n",
        "import tensorflow as tf\n",
        "\n",
        "tf_config = tf.ConfigProto()\n",
        "tf_config.gpu_options.allow_growth = True\n",
        "sess = tf.Session(config=tf_config)"
      ],
      "execution_count": 0,
      "outputs": []
    },
    {
      "cell_type": "code",
      "metadata": {
        "id": "GFrPwYXPBPlb",
        "colab_type": "code",
        "colab": {}
      },
      "source": [
        "import gensim\n",
        "import keras\n",
        "import numpy as np\n",
        "import pandas as pd\n",
        "import pickle\n",
        "\n",
        "\n",
        "from sklearn.model_selection import train_test_split\n",
        "from keras.models import Sequential\n",
        "from keras.layers import Input, Dense, LSTM, Embedding, Dropout, BatchNormalization, Activation, Bidirectional\n",
        "from keras.preprocessing.text import text_to_word_sequence, Tokenizer\n",
        "from keras.preprocessing.sequence import pad_sequences\n",
        "from keras.models import load_model\n",
        "\n",
        "\n",
        "import matplotlib as mpl\n",
        "%matplotlib inline\n",
        "from matplotlib import pyplot as plt\n",
        "from keras.utils import plot_model \n",
        "from IPython.display import Image\n",
        "from gensim.scripts.glove2word2vec import glove2word2vec\n",
        "from sklearn.preprocessing import LabelEncoder\n",
        "\n",
        "\n",
        "\n",
        "np.random.seed(1003)"
      ],
      "execution_count": 0,
      "outputs": []
    },
    {
      "cell_type": "markdown",
      "metadata": {
        "id": "_pFRP93ZBPlg",
        "colab_type": "text"
      },
      "source": [
        "### Python 3.6.1"
      ]
    },
    {
      "cell_type": "markdown",
      "metadata": {
        "id": "XChgIilrBPlt",
        "colab_type": "text"
      },
      "source": [
        "### Specify Hyperparameters"
      ]
    },
    {
      "cell_type": "code",
      "metadata": {
        "id": "IkcVr6KmBPlu",
        "colab_type": "code",
        "colab": {}
      },
      "source": [
        "# Specify the folder locations\n",
        "W2V_DIR = 'https://s3.amazonaws.com/dl4j-distribution/GoogleNews-vectors-negative300.bin.gz'\n",
        "DATA_DIR = 'fnc-1/'\n",
        "Glove = 'glove.6B.200d.txt'\n",
        "\n",
        "# These are some hyperparameters that can be tuned\n",
        "MAX_SENT_LEN = 170\n",
        "MAX_VOCAB_SIZE = 400000\n",
        "LSTM_DIM = 128\n",
        "EMBEDDING_DIM = 200\n",
        "EMBEDDING_DIM = 300\n",
        "BATCH_SIZE = 200\n",
        "N_EPOCHS = 10\n"
      ],
      "execution_count": 0,
      "outputs": []
    },
    {
      "cell_type": "markdown",
      "metadata": {
        "id": "cauQcGQ0BPlx",
        "colab_type": "text"
      },
      "source": [
        "### Load Data"
      ]
    },
    {
      "cell_type": "code",
      "metadata": {
        "id": "-9mFRE-nBPlz",
        "colab_type": "code",
        "colab": {}
      },
      "source": [
        "# Read the text files of positive and negative sentences\n",
        "train_bodies = pd.read_csv(DATA_DIR+'train_bodies.csv')\n",
        "train_stances = pd.read_csv(DATA_DIR+'train_stances.csv')\n",
        "\n",
        "test_bodies = pd.read_csv(DATA_DIR+'test_bodies.csv')\n",
        "test_stances_unlabeled = pd.read_csv(DATA_DIR+'test_stances_unlabeled.csv')\n",
        "\n",
        "competetion_bodies = pd.read_csv(DATA_DIR+'competition_test_bodies.csv')\n",
        "competetion_stances = pd.read_csv(DATA_DIR+'competition_test_stances.csv')\n",
        "\n",
        "competetion_unlabeled = pd.read_csv(DATA_DIR+'competition_test_stances_unlabeled.csv')\n",
        "\n",
        "\n",
        "\n",
        "\n",
        "\n",
        "\n"
      ],
      "execution_count": 0,
      "outputs": []
    },
    {
      "cell_type": "code",
      "metadata": {
        "id": "nNG5eReVBPl2",
        "colab_type": "code",
        "colab": {}
      },
      "source": [
        "print('Number of Body sentences:', len(train_bodies['articleBody']))\n",
        "print('Number of Headlines sentences:', len(train_stances['Headline']))\n",
        "\n",
        "train = train_stances.join(train_bodies.set_index('Body ID'), on='Body ID')\n",
        "test = test_stances_unlabeled.join(test_bodies.set_index('Body ID'), on='Body ID')\n",
        "comp = competetion_stances.join(competetion_bodies.set_index('Body ID'), on='Body ID')\n"
      ],
      "execution_count": 0,
      "outputs": []
    },
    {
      "cell_type": "code",
      "metadata": {
        "id": "RD66lBEfBPl_",
        "colab_type": "code",
        "colab": {}
      },
      "source": [
        "train.replace('unrelated',1,True)\n",
        "train.replace('agree',2,True)\n",
        "train.replace('disagree',3,True)\n",
        "train.replace('discuss',4,True)\n",
        "\n",
        "comp.replace('unrelated',1,True)\n",
        "comp.replace('agree',2,True)\n",
        "comp.replace('disagree',3,True)\n",
        "comp.replace('discuss',4,True)"
      ],
      "execution_count": 0,
      "outputs": []
    },
    {
      "cell_type": "code",
      "metadata": {
        "id": "guPDNT28BPmJ",
        "colab_type": "code",
        "outputId": "de93a43b-2e0c-4a00-a9bb-9ad5ce9a3a17",
        "colab": {
          "base_uri": "https://localhost:8080/",
          "height": 85
        }
      },
      "source": [
        "# Pre-processing involves removal of puctuations and converting text to lower case\n",
        "word_seq_headline_train = [text_to_word_sequence(sent) for sent in train['Headline']]\n",
        "word_seq_bodies_train = [text_to_word_sequence(sent) for sent in train['articleBody']]\n",
        "\n",
        "word_seq_headline_test = [text_to_word_sequence(sent) for sent in test['Headline']]\n",
        "word_seq_bodies_test = [text_to_word_sequence(sent) for sent in test['articleBody']]\n",
        "\n",
        "word_seq_headline_comp = [text_to_word_sequence(sent) for sent in comp['Headline']]\n",
        "word_seq_bodies_comp = [text_to_word_sequence(sent) for sent in comp['articleBody']]\n",
        "\n",
        "print('90th Percentile Sentence Length:', np.percentile([len(seq) for seq in word_seq_headline_train], 90))\n",
        "print('90th Percentile Sentence Length:', np.percentile([len(seq) for seq in word_seq_bodies_train], 90))\n",
        "\n",
        "print('90th Percentile Sentence Length:', np.percentile([len(seq) for seq in word_seq_headline_test], 90))\n",
        "print('90th Percentile Sentence Length:', np.percentile([len(seq) for seq in word_seq_bodies_test], 90))"
      ],
      "execution_count": 136,
      "outputs": [
        {
          "output_type": "stream",
          "text": [
            "90th Percentile Sentence Length: 16.0\n",
            "90th Percentile Sentence Length: 683.0\n",
            "90th Percentile Sentence Length: 16.0\n",
            "90th Percentile Sentence Length: 657.0\n"
          ],
          "name": "stdout"
        }
      ]
    },
    {
      "cell_type": "code",
      "metadata": {
        "id": "yn2PHD9sXa_o",
        "colab_type": "code",
        "colab": {}
      },
      "source": [
        "word_seq = []\n",
        "for i in range(len(word_seq_headline_train)):\n",
        "  word_seq.append(word_seq_headline_train[i])\n",
        "  \n",
        "for i in range(len(word_seq_bodies_train)):\n",
        "  word_seq.append(word_seq_bodies_train[i])\n",
        "\n",
        "for i in range(len(word_seq_headline_test)):\n",
        "  word_seq.append(word_seq_headline_test[i])\n",
        "\n",
        "for i in range(len(word_seq_bodies_test)):\n",
        "  word_seq.append(word_seq_bodies_test[i])\n",
        "  \n",
        "for i in range(len(word_seq_bodies_comp)):\n",
        "  word_seq.append(word_seq_bodies_comp[i])\n",
        " \n"
      ],
      "execution_count": 0,
      "outputs": []
    },
    {
      "cell_type": "code",
      "metadata": {
        "id": "0jsgYwiweMP0",
        "colab_type": "code",
        "colab": {}
      },
      "source": [
        "for i in range (len(word_seq_headline_train)):\n",
        "  word_seq_headline_train[i].extend(word_seq_bodies_train[i])\n",
        "\n",
        "  \n",
        "for i in range (len(word_seq_headline_test)):\n",
        "  word_seq_headline_test[i].extend(word_seq_bodies_test[i])\n",
        "  \n",
        "\n",
        "for i in range (len(word_seq_headline_comp)):\n",
        "  word_seq_headline_comp[i].extend(word_seq_bodies_comp[i])\n",
        "\n",
        "\n"
      ],
      "execution_count": 0,
      "outputs": []
    },
    {
      "cell_type": "code",
      "metadata": {
        "id": "iCNFhX55BPmP",
        "colab_type": "code",
        "colab": {}
      },
      "source": [
        "tokenizer = Tokenizer(num_words=MAX_VOCAB_SIZE)\n",
        "tokenizer.fit_on_texts([' '.join(seq[:MAX_SENT_LEN]) for seq in word_seq])\n",
        "\n",
        "print(\"Number of words in vocabulary:\", len(tokenizer.word_index))"
      ],
      "execution_count": 0,
      "outputs": []
    },
    {
      "cell_type": "code",
      "metadata": {
        "id": "TRO2s1RsBPmX",
        "colab_type": "code",
        "colab": {}
      },
      "source": [
        "# Convert the sequence of words to sequnce of indices\n",
        "X_train = tokenizer.texts_to_sequences([' '.join(seq[:MAX_SENT_LEN]) for seq in word_seq_headline_train])\n",
        "X_train = pad_sequences(X_train, maxlen=MAX_SENT_LEN, padding='post', truncating='post')\n",
        "y_train = train['Stance']\n",
        "y_train = y_train.values\n",
        "\n",
        "print (X_train.shape)\n",
        "print (y_train.shape)\n",
        "\n",
        "\n",
        "X_test = tokenizer.texts_to_sequences([' '.join(seq[:MAX_SENT_LEN]) for seq in word_seq_headline_comp])\n",
        "X_test = pad_sequences(X_test, maxlen=MAX_SENT_LEN, padding='post', truncating='post')\n",
        "\n",
        "X_comp = tokenizer.texts_to_sequences([' '.join(seq[:MAX_SENT_LEN]) for seq in word_seq_headline_comp])\n",
        "X_comp = pad_sequences(X_comp, maxlen=MAX_SENT_LEN, padding='post', truncating='post')\n",
        "y_comp = comp['Stance']\n",
        "y_comp = y_comp.values\n",
        "\n"
      ],
      "execution_count": 0,
      "outputs": []
    },
    {
      "cell_type": "code",
      "metadata": {
        "id": "xmTwVponVIE8",
        "colab_type": "code",
        "colab": {}
      },
      "source": [
        "from keras.utils import np_utils\n",
        "\n",
        "encoder_train = LabelEncoder()\n",
        "encoder_train.fit(y_train)\n",
        "encoded_train = encoder_train.transform(y_train)\n",
        "# convert integers to dummy variables (i.e. one hot encoded)\n",
        "dummy_y_train = np_utils.to_categorical(encoded_train)\n",
        "\n",
        "encoder_comp = LabelEncoder()\n",
        "encoder_comp.fit(y_comp)\n",
        "encoded_comp = encoder_comp.transform(y_comp)\n",
        "# convert integers to dummy variables (i.e. one hot encoded)\n",
        "dummy_y_comp = np_utils.to_categorical(encoded_comp)\n"
      ],
      "execution_count": 0,
      "outputs": []
    },
    {
      "cell_type": "code",
      "metadata": {
        "id": "ONYq7augBPmn",
        "colab_type": "code",
        "colab": {}
      },
      "source": [
        "X_train, X_val, y_train, y_val = train_test_split(X_train, dummy_y_train, random_state=10, test_size=0.1)"
      ],
      "execution_count": 0,
      "outputs": []
    },
    {
      "cell_type": "code",
      "metadata": {
        "id": "J8UraYlyN0_B",
        "colab_type": "code",
        "outputId": "7735175f-880a-4f1d-e5b7-616f555bb953",
        "colab": {
          "base_uri": "https://localhost:8080/",
          "height": 71
        }
      },
      "source": [
        "embeddings = gensim.models.KeyedVectors.load_word2vec_format(W2V_DIR, binary=True)\n",
        "\n",
        "\n"
      ],
      "execution_count": 172,
      "outputs": [
        {
          "output_type": "stream",
          "text": [
            "/usr/local/lib/python3.6/dist-packages/smart_open/smart_open_lib.py:398: UserWarning: This function is deprecated, use smart_open.open instead. See the migration notes for details: https://github.com/RaRe-Technologies/smart_open/blob/master/README.rst#migrating-to-the-new-open-function\n",
            "  'See the migration notes for details: %s' % _MIGRATION_NOTES_URL\n"
          ],
          "name": "stderr"
        }
      ]
    },
    {
      "cell_type": "code",
      "metadata": {
        "id": "kIhw7CGQBPm2",
        "colab_type": "code",
        "outputId": "b5572ecf-9b0b-41f7-cfd1-76ca15400ef4",
        "colab": {
          "base_uri": "https://localhost:8080/",
          "height": 71
        }
      },
      "source": [
        "glove2word2vec(glove_input_file=Glove, word2vec_output_file=\"gensim_glove_vectors.txt\")\n",
        "embeddings = gensim.models.KeyedVectors.load_word2vec_format(\"gensim_glove_vectors.txt\", binary=False)\n"
      ],
      "execution_count": 173,
      "outputs": [
        {
          "output_type": "stream",
          "text": [
            "/usr/local/lib/python3.6/dist-packages/smart_open/smart_open_lib.py:398: UserWarning: This function is deprecated, use smart_open.open instead. See the migration notes for details: https://github.com/RaRe-Technologies/smart_open/blob/master/README.rst#migrating-to-the-new-open-function\n",
            "  'See the migration notes for details: %s' % _MIGRATION_NOTES_URL\n"
          ],
          "name": "stderr"
        }
      ]
    },
    {
      "cell_type": "code",
      "metadata": {
        "id": "OeRlWLI9BPm6",
        "colab_type": "code",
        "outputId": "c447c929-deb1-4830-892b-e9c3fb9045e1",
        "colab": {
          "base_uri": "https://localhost:8080/",
          "height": 51
        }
      },
      "source": [
        "print('Number of words in this pre-trained w2v model:', len(embeddings.vocab))\n",
        "print('Dimension of w2v:', embeddings.vector_size)"
      ],
      "execution_count": 174,
      "outputs": [
        {
          "output_type": "stream",
          "text": [
            "Number of words in this pre-trained w2v model: 400000\n",
            "Dimension of w2v: 200\n"
          ],
          "name": "stdout"
        }
      ]
    },
    {
      "cell_type": "code",
      "metadata": {
        "id": "vD-xjcq2BPnO",
        "colab_type": "code",
        "colab": {}
      },
      "source": [
        "# Create an embedding matrix containing only the word's in our vocabulary\n",
        "# If the word does not have a pre-trained embedding, then randomly initialize the embedding\n",
        "\n",
        "embeddings_matrix = np.random.uniform(-0.05, 0.05, size=(len(tokenizer.word_index)+1, EMBEDDING_DIM)) # +1 is because the matrix indices start with 0\n",
        "\n",
        "for word, i in tokenizer.word_index.items(): # i=0 is the embedding for the zero padding\n",
        "    try:\n",
        "        embeddings_vector = embeddings[word]\n",
        "    except KeyError:\n",
        "        embeddings_vector = None\n",
        "    if embeddings_vector is not None:\n",
        "        embeddings_matrix[i] = embeddings_vector\n",
        "        \n",
        "del embeddings"
      ],
      "execution_count": 0,
      "outputs": []
    },
    {
      "cell_type": "markdown",
      "metadata": {
        "id": "peHyVp5ABPnR",
        "colab_type": "text"
      },
      "source": [
        "### Keras Sequential API"
      ]
    },
    {
      "cell_type": "code",
      "metadata": {
        "id": "K1-RnU3nBPnR",
        "colab_type": "code",
        "colab": {}
      },
      "source": [
        "# Build a sequential model by stacking neural net units \n",
        "model = Sequential()\n",
        "model.add(Embedding(input_dim=len(tokenizer.word_index)+1,\n",
        "                          output_dim=EMBEDDING_DIM,\n",
        "                          weights = [embeddings_matrix], trainable=True, name='word_embedding_layer' \n",
        "                          ))\n",
        "model.add(LSTM(LSTM_DIM, return_sequences=False, name='lstm_layer'))\n",
        "#model.add(Bidirectional(LSTM(LSTM_DIM, return_sequences=False, name='Bidrectional_lstm_layer1')))\n",
        "model.add(Dropout(rate=0.8, name='dropout_1')) # Can try varying dropout rates, in paper suggest 0.8\n",
        "model.add(Dense(4, activation='softmax', name='output_layer'))\n"
      ],
      "execution_count": 0,
      "outputs": []
    },
    {
      "cell_type": "code",
      "metadata": {
        "id": "PXveDgyABPnV",
        "colab_type": "code",
        "outputId": "977ae733-f375-4dde-e51d-87e4a14d3a3c",
        "colab": {
          "base_uri": "https://localhost:8080/",
          "height": 272
        }
      },
      "source": [
        "model.summary()"
      ],
      "execution_count": 178,
      "outputs": [
        {
          "output_type": "stream",
          "text": [
            "_________________________________________________________________\n",
            "Layer (type)                 Output Shape              Param #   \n",
            "=================================================================\n",
            "word_embedding_layer (Embedd (None, None, 200)         4476200   \n",
            "_________________________________________________________________\n",
            "lstm_layer (LSTM)            (None, 128)               168448    \n",
            "_________________________________________________________________\n",
            "dropout_1 (Dropout)          (None, 128)               0         \n",
            "_________________________________________________________________\n",
            "output_layer (Dense)         (None, 4)                 516       \n",
            "=================================================================\n",
            "Total params: 4,645,164\n",
            "Trainable params: 4,645,164\n",
            "Non-trainable params: 0\n",
            "_________________________________________________________________\n"
          ],
          "name": "stdout"
        }
      ]
    },
    {
      "cell_type": "code",
      "metadata": {
        "id": "gUDZhtpNBPnY",
        "colab_type": "code",
        "colab": {}
      },
      "source": [
        "model.compile(loss='categorical_crossentropy',\n",
        "              optimizer='adam',\n",
        "              metrics=['accuracy'])"
      ],
      "execution_count": 0,
      "outputs": []
    },
    {
      "cell_type": "code",
      "metadata": {
        "id": "XkHOvOqHBPnd",
        "colab_type": "code",
        "outputId": "37898cf4-f698-48f5-d970-45fd6fbad70b",
        "colab": {
          "base_uri": "https://localhost:8080/",
          "height": 394
        }
      },
      "source": [
        "history = model.fit(X_train, y_train,\n",
        "          batch_size=BATCH_SIZE,\n",
        "          epochs=N_EPOCHS,\n",
        "          validation_data=(X_val, y_val))\n",
        "\n"
      ],
      "execution_count": 180,
      "outputs": [
        {
          "output_type": "stream",
          "text": [
            "Train on 44974 samples, validate on 4998 samples\n",
            "Epoch 1/10\n",
            "44974/44974 [==============================] - 52s 1ms/step - loss: 0.8196 - acc: 0.7255 - val_loss: 0.7223 - val_acc: 0.7407\n",
            "Epoch 2/10\n",
            "44974/44974 [==============================] - 50s 1ms/step - loss: 0.6631 - acc: 0.7647 - val_loss: 0.6095 - val_acc: 0.7837\n",
            "Epoch 3/10\n",
            "44974/44974 [==============================] - 50s 1ms/step - loss: 0.6004 - acc: 0.7934 - val_loss: 0.5931 - val_acc: 0.7905\n",
            "Epoch 4/10\n",
            "44974/44974 [==============================] - 51s 1ms/step - loss: 0.5581 - acc: 0.8013 - val_loss: 0.5524 - val_acc: 0.7991\n",
            "Epoch 5/10\n",
            "44974/44974 [==============================] - 51s 1ms/step - loss: 0.5277 - acc: 0.8064 - val_loss: 0.5411 - val_acc: 0.7985\n",
            "Epoch 6/10\n",
            "44974/44974 [==============================] - 51s 1ms/step - loss: 0.5180 - acc: 0.8087 - val_loss: 0.5473 - val_acc: 0.7981\n",
            "Epoch 7/10\n",
            "44974/44974 [==============================] - 51s 1ms/step - loss: 0.5112 - acc: 0.8123 - val_loss: 0.5450 - val_acc: 0.8023\n",
            "Epoch 8/10\n",
            "44974/44974 [==============================] - 51s 1ms/step - loss: 0.4975 - acc: 0.8135 - val_loss: 0.5702 - val_acc: 0.7943\n",
            "Epoch 9/10\n",
            "44974/44974 [==============================] - 51s 1ms/step - loss: 0.4776 - acc: 0.8205 - val_loss: 0.5261 - val_acc: 0.8063\n",
            "Epoch 10/10\n",
            "44974/44974 [==============================] - 51s 1ms/step - loss: 0.4496 - acc: 0.8295 - val_loss: 0.5268 - val_acc: 0.8141\n"
          ],
          "name": "stdout"
        }
      ]
    },
    {
      "cell_type": "code",
      "metadata": {
        "id": "7vOdp3sdBPng",
        "colab_type": "code",
        "colab": {}
      },
      "source": [
        "with open('LSTM+Glove', 'wb') as file_pi:\n",
        "        pickle.dump(history.history, file_pi)"
      ],
      "execution_count": 0,
      "outputs": []
    },
    {
      "cell_type": "code",
      "metadata": {
        "id": "Z6KPC0jaiPVA",
        "colab_type": "code",
        "colab": {
          "base_uri": "https://localhost:8080/",
          "height": 579
        },
        "outputId": "b281642d-d11d-4002-b61a-adeb26dc8819"
      },
      "source": [
        "file1 = open('LSTM+Word2Vec', 'rb')\n",
        "history1 = pickle.load(file1)\n",
        "file1.close()\n",
        "\n",
        "file2 = open('LSTM+Glove','rb')\n",
        "history2 = pickle.load(file2)\n",
        "file2.close()\n",
        "\n",
        "fig = plt.figure(figsize=(10,9))\n",
        "ax = fig.add_subplot(111)\n",
        "ax.plot(history1['val_acc'])\n",
        "ax.plot(history2['val_acc'])\n",
        "\n",
        "\n",
        "ymax1 = max(history1['val_acc'])\n",
        "xmax1 = history1['val_acc'].index(ymax1)\n",
        "\n",
        "ymax2 = max(history2['val_acc'])\n",
        "xmax2 = history2['val_acc'].index(ymax2)\n",
        "\n",
        "\n",
        "plt.plot(xmax1,ymax1,'ro')\n",
        "plt.text(xmax1*1.01, ymax1*1.00 , '(%d, %.3f)'%(xmax1,ymax1), fontsize=11)\n",
        "\n",
        "plt.plot(xmax2,ymax2,'ro')\n",
        "plt.text(xmax2*0.87, ymax2*1 , '(%d, %.3f)'%(xmax2,ymax2), fontsize=11)\n",
        "\n",
        "\n",
        "plt.title('Diffrenrent Pretrainned Word Embeddings(Truncation: 150 Epoch: 40)', fontsize=18)\n",
        "plt.ylabel('Accuracy', fontsize=18)\n",
        "plt.xlabel('Epoch', fontsize=18)\n",
        "plt.legend(['LSTM + GloVe', 'LSTM + W2V'], loc='upper left',fontsize=13)\n",
        "plt.savefig(\"W2V+GloVe.png\")\n"
      ],
      "execution_count": 182,
      "outputs": [
        {
          "output_type": "display_data",
          "data": {
            "image/png": "[encoded data removed]",
            "text/plain": [
              "<Figure size 720x648 with 1 Axes>"
            ]
          },
          "metadata": {
            "tags": []
          }
        }
      ]
    },
    {
      "cell_type": "code",
      "metadata": {
        "id": "6ORkqGdoLW50",
        "colab_type": "code",
        "colab": {}
      },
      "source": [
        "from keras.utils import plot_model\n",
        "plot_model(model, to_file='LSTM + Word2Vec.png')"
      ],
      "execution_count": 0,
      "outputs": []
    },
    {
      "cell_type": "code",
      "metadata": {
        "id": "LCFMQlqmIGre",
        "colab_type": "code",
        "colab": {
          "base_uri": "https://localhost:8080/",
          "height": 51
        },
        "outputId": "c9dfd112-7e8f-4c6a-9e60-45dace88b827"
      },
      "source": [
        "score,acc = model.evaluate(X_comp, dummy_y_comp)\n",
        "\n",
        "print(\"Accuracy on Test Set = {0:4.3f}\".format(acc))\n",
        "\n",
        "\n"
      ],
      "execution_count": 123,
      "outputs": [
        {
          "output_type": "stream",
          "text": [
            "25413/25413 [==============================] - 75s 3ms/step\n",
            "Accuracy on Test Set = 0.705\n"
          ],
          "name": "stdout"
        }
      ]
    },
    {
      "cell_type": "code",
      "metadata": {
        "id": "qVi6eWxjBPnk",
        "colab_type": "code",
        "outputId": "8568351b-087b-4d15-b008-b9050c556e04",
        "colab": {}
      },
      "source": [
        "print(\"Accuracy on Test Set = {0:4.3f}\".format(acc))"
      ],
      "execution_count": 0,
      "outputs": [
        {
          "output_type": "stream",
          "text": [
            "Accuracy on Test Set = 0.777\n"
          ],
          "name": "stdout"
        }
      ]
    },
    {
      "cell_type": "code",
      "metadata": {
        "id": "hsb15IaxBPnn",
        "colab_type": "code",
        "outputId": "82666a64-3fb8-456f-ba8e-95c9150b44ed",
        "colab": {}
      },
      "source": [
        "plot_model(model, to_file='basic_lstm_classifier.png', show_layer_names=True, show_shapes=True)\n",
        "Image('basic_lstm_classifier.png')"
      ],
      "execution_count": 0,
      "outputs": [
        {
          "output_type": "execute_result",
          "data": {
            "image/png": "[encoded data removed]",
            "text/plain": [
              "<IPython.core.display.Image object>"
            ]
          },
          "metadata": {
            "tags": []
          },
          "execution_count": 33
        }
      ]
    },
    {
      "cell_type": "code",
      "metadata": {
        "id": "VYxKlKcWBPnr",
        "colab_type": "code",
        "colab": {}
      },
      "source": [
        ""
      ],
      "execution_count": 0,
      "outputs": []
    },
    {
      "cell_type": "markdown",
      "metadata": {
        "collapsed": true,
        "id": "6IgJCLooBPnw",
        "colab_type": "text"
      },
      "source": [
        "<code>Modify the network by adding two more Dense layers with Batch-Normalization and Dropouts:\n",
        "\n",
        "> Indented block\n",
        "\n"
      ]
    },
    {
      "cell_type": "code",
      "metadata": {
        "id": "hIf6S2dEBPnx",
        "colab_type": "code",
        "outputId": "973f67a7-00c3-4769-a28d-45e8a0b9355a",
        "colab": {}
      },
      "source": [
        "# Build a sequential model by stacking neural net units \n",
        "model = Sequential()\n",
        "model.add(Embedding(input_dim=len(tokenizer.word_index)+1,\n",
        "                          output_dim=EMBEDDING_DIM,\n",
        "                          weights = [embeddings_matrix], trainable=False, name='word_embedding_layer', \n",
        "                          mask_zero=True)) # trainable=True results in overfitting\n",
        "\n",
        "model.add(LSTM(LSTM_DIM, return_sequences=False, name='lstm_layer')) # Can try Bidirectional-LSTM\n",
        "\n",
        "model.add(Dense(32, name='dense_1'))\n",
        "# model.add(BatchNormalization(name='bn_1')) # BN did not really help with performance \n",
        "model.add(Dropout(rate=0.3, name='dropout_1')) # Can try varying dropout rates\n",
        "model.add(Activation(activation='relu', name='activation_1'))\n",
        "\n",
        "model.add(Dense(8, name='dense_2'))\n",
        "# model.add(BatchNormalization(name='bn_2'))\n",
        "model.add(Dropout(rate=0.3, name='dropout_2'))\n",
        "model.add(Activation(activation='relu', name='activation_2'))\n",
        "\n",
        "model.add(Dense(1, activation='sigmoid', name='output_layer'))\n",
        "model.summary()"
      ],
      "execution_count": 0,
      "outputs": [
        {
          "output_type": "stream",
          "text": [
            "_________________________________________________________________\n",
            "Layer (type)                 Output Shape              Param #   \n",
            "=================================================================\n",
            "word_embedding_layer (Embedd (None, None, 300)         5754300   \n",
            "_________________________________________________________________\n",
            "lstm_layer (LSTM)            (None, 128)               219648    \n",
            "_________________________________________________________________\n",
            "dense_1 (Dense)              (None, 32)                4128      \n",
            "_________________________________________________________________\n",
            "dropout_1 (Dropout)          (None, 32)                0         \n",
            "_________________________________________________________________\n",
            "activation_1 (Activation)    (None, 32)                0         \n",
            "_________________________________________________________________\n",
            "dense_2 (Dense)              (None, 8)                 264       \n",
            "_________________________________________________________________\n",
            "dropout_2 (Dropout)          (None, 8)                 0         \n",
            "_________________________________________________________________\n",
            "activation_2 (Activation)    (None, 8)                 0         \n",
            "_________________________________________________________________\n",
            "output_layer (Dense)         (None, 1)                 9         \n",
            "=================================================================\n",
            "Total params: 5,978,349\n",
            "Trainable params: 224,049\n",
            "Non-trainable params: 5,754,300\n",
            "_________________________________________________________________\n"
          ],
          "name": "stdout"
        }
      ]
    },
    {
      "cell_type": "code",
      "metadata": {
        "id": "6BZWnWkbBPn0",
        "colab_type": "code",
        "colab": {}
      },
      "source": [
        "model.compile(loss='binary_crossentropy',\n",
        "              optimizer='adam',\n",
        "              metrics=['accuracy'])"
      ],
      "execution_count": 0,
      "outputs": []
    },
    {
      "cell_type": "code",
      "metadata": {
        "id": "eW14Vp6IBPn4",
        "colab_type": "code",
        "outputId": "d1244803-060a-4e30-a1a1-b6cffab0ae8f",
        "colab": {}
      },
      "source": [
        "model.fit(X_train, y_train,\n",
        "          batch_size=BATCH_SIZE,\n",
        "          epochs=N_EPOCHS,\n",
        "          validation_data=(X_test, y_test))"
      ],
      "execution_count": 0,
      "outputs": [
        {
          "output_type": "stream",
          "text": [
            "Train on 9595 samples, validate on 1067 samples\n",
            "Epoch 1/10\n",
            "9595/9595 [==============================] - 22s - loss: 0.5763 - acc: 0.7061 - val_loss: 0.4798 - val_acc: 0.7563\n",
            "Epoch 2/10\n",
            "9595/9595 [==============================] - 21s - loss: 0.4929 - acc: 0.7762 - val_loss: 0.4452 - val_acc: 0.7826\n",
            "Epoch 3/10\n",
            "9595/9595 [==============================] - 21s - loss: 0.4634 - acc: 0.7917 - val_loss: 0.4570 - val_acc: 0.7854\n",
            "Epoch 4/10\n",
            "9595/9595 [==============================] - 21s - loss: 0.4319 - acc: 0.8101 - val_loss: 0.4359 - val_acc: 0.7863\n",
            "Epoch 5/10\n",
            "9595/9595 [==============================] - 21s - loss: 0.4054 - acc: 0.8201 - val_loss: 0.4572 - val_acc: 0.7732\n",
            "Epoch 6/10\n",
            "9595/9595 [==============================] - 21s - loss: 0.3823 - acc: 0.8351 - val_loss: 0.4475 - val_acc: 0.7948\n",
            "Epoch 7/10\n",
            "9595/9595 [==============================] - 21s - loss: 0.3502 - acc: 0.8508 - val_loss: 0.4525 - val_acc: 0.7891\n",
            "Epoch 8/10\n",
            "9595/9595 [==============================] - 21s - loss: 0.3210 - acc: 0.8617 - val_loss: 0.4865 - val_acc: 0.8069\n",
            "Epoch 9/10\n",
            "9595/9595 [==============================] - 21s - loss: 0.2782 - acc: 0.8788 - val_loss: 0.5163 - val_acc: 0.8041\n",
            "Epoch 10/10\n",
            "9595/9595 [==============================] - 21s - loss: 0.2486 - acc: 0.8938 - val_loss: 0.5930 - val_acc: 0.7891\n"
          ],
          "name": "stdout"
        },
        {
          "output_type": "execute_result",
          "data": {
            "text/plain": [
              "<keras.callbacks.History at 0x7fe52a3f5710>"
            ]
          },
          "metadata": {
            "tags": []
          },
          "execution_count": 36
        }
      ]
    },
    {
      "cell_type": "code",
      "metadata": {
        "id": "dgCTRMmeBPn8",
        "colab_type": "code",
        "outputId": "60b1976d-0359-4d3c-f2b2-2fe5398163bc",
        "colab": {}
      },
      "source": [
        "plot_model(model, to_file='modified_lstm_classifier.png', show_layer_names=True)\n",
        "Image('modified_lstm_classifier.png')"
      ],
      "execution_count": 0,
      "outputs": [
        {
          "output_type": "execute_result",
          "data": {
            "image/png": "[encoded data removed]",
            "text/plain": [
              "<IPython.core.display.Image object>"
            ]
          },
          "metadata": {
            "tags": []
          },
          "execution_count": 37
        }
      ]
    },
    {
      "cell_type": "code",
      "metadata": {
        "id": "qFxT2Tg0BPoB",
        "colab_type": "code",
        "colab": {}
      },
      "source": [
        ""
      ],
      "execution_count": 0,
      "outputs": []
    },
    {
      "cell_type": "code",
      "metadata": {
        "id": "GTT-OEO2BPoD",
        "colab_type": "code",
        "colab": {}
      },
      "source": [
        ""
      ],
      "execution_count": 0,
      "outputs": []
    },
    {
      "cell_type": "code",
      "metadata": {
        "id": "IbKV2SNSBPoF",
        "colab_type": "code",
        "colab": {}
      },
      "source": [
        ""
      ],
      "execution_count": 0,
      "outputs": []
    }
  ]
}