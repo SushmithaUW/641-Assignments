{
  "nbformat": 4,
  "nbformat_minor": 0,
  "metadata": {
    "colab": {
      "name": "Stopwords.ipynb",
      "version": "0.3.2",
      "provenance": [],
      "collapsed_sections": [],
      "include_colab_link": true
    },
    "kernelspec": {
      "name": "python3",
      "display_name": "Python 3"
    },
    "accelerator": "GPU"
  },
  "cells": [
    {
      "cell_type": "markdown",
      "metadata": {
        "id": "view-in-github",
        "colab_type": "text"
      },
      "source": [
        "<a href=\"https://colab.research.google.com/github/SushmithaUW/641-Assignments/blob/master/Stopwords.ipynb\" target=\"_parent\"><img src=\"https://colab.research.google.com/assets/colab-badge.svg\" alt=\"Open In Colab\"/></a>"
      ]
    },
    {
      "cell_type": "code",
      "metadata": {
        "id": "EDFYeEPBPvHj",
        "colab_type": "code",
        "colab": {}
      },
      "source": [
        ""
      ],
      "execution_count": 0,
      "outputs": []
    },
    {
      "cell_type": "code",
      "metadata": {
        "id": "Emih3ZwLLLi6",
        "colab_type": "code",
        "colab": {}
      },
      "source": [
        "\n",
        "from nltk.corpus import stopwords\n",
        "from simple_tokenize import simple_tokenize\n",
        "\n",
        "en_stops = set(stopwords.words('english'))\n",
        "\n",
        "\n",
        "with open('Without StopWords.txt', 'w') as outfile:\n",
        "        with open('Output.txt') as infile:\n",
        "            for line in infile:\n",
        "              t = simple_tokenize(line)\n",
        "              for word in t: \n",
        "                 if word not in en_stops:\n",
        "                  outfile.write(word)\n",
        "                  outfile.write(\"\\n\")\n",
        "\n",
        "\n",
        "\n",
        "\n",
        "\n",
        "\n",
        "  \n",
        "\n",
        "  "
      ],
      "execution_count": 0,
      "outputs": []
    }
  ]
}